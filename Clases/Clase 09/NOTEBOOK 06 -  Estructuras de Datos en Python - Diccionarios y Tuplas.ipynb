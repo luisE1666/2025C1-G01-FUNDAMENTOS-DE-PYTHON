{
    "cells": [
        {
            "attachments": {},
            "cell_type": "markdown",
            "metadata": {
                "azdata_cell_guid": "e738b43d-fda9-409b-9e4e-f356323e1dbc"
            },
            "source": [
                "# Notebook 06 - Estructuras de Datos en Python - Diccionarios y Tuplas\n",
                "\n",
                "## Fundamentos de Python | UMCA\n",
                "\n",
                "## Profesor: Ing. Andrés Mena Abarca\n",
                "\n",
                "### <mark>**Nombre del estudiante:**</mark> Luis Eduardo Chacón Víquez\n",
                "\n",
                "* * *"
            ]
        },
        {
            "attachments": {},
            "cell_type": "markdown",
            "metadata": {
                "azdata_cell_guid": "5a9661f6-9c22-438b-8530-debb92fea2ff"
            },
            "source": [
                "#### **Introducción a Diccionarios y Tuplas**\n",
                "\n",
                "En esta clase profundizaremos en dos estructuras clave en Python: **diccionarios** y **tuplas**. Estas estructuras son fundamentales para manejar y organizar datos en programación. La sesión se dividirá en tres partes:\n",
                "\n",
                "1. **Comparación y diferencias entre diccionarios y tuplas.**\n",
                "2. **Funciones y métodos clave.**\n",
                "3. **Retos prácticos y un ejercicio de análisis de datos.**\n",
                "\n",
                "### 1\\. **Comparación y Diferencias entre Diccionarios y Tuplas**\n",
                "\n",
                "| Aspecto | Diccionarios | Tuplas |\n",
                "| --- | --- | --- |\n",
                "| **Estructura** | Colección de pares clave-valor. Cada valor está asociado a una clave única. | Secuencia ordenada de elementos. |\n",
                "| **Mutabilidad** | Mutables: podemos añadir, modificar o eliminar elementos después de su creación. | Inmutables: una vez creadas, no se pueden cambiar. |\n",
                "| **Acceso** | Se accede a los valores mediante claves (usualmente cadenas o números). | Se accede a los elementos mediante índices (0, 1, 2, ...). |\n",
                "| **Uso típico** | Ideal para representar relaciones de mapeo, como bases de datos simples o configuraciones. | Útil para almacenar conjuntos de valores inmutables, como coordenadas o datos de configuración fija. |\n",
                "| **Ejemplo común** | `{\"nombre\": \"Juan\", \"edad\": 30}` | `(\"Python\", \"esencial\", 3.8)` |\n",
                "\n",
                "**¿Cuándo Usar Cada Estructura?**\n",
                "\n",
                "- **Diccionarios**: cuando necesitamos buscar datos asociados a una clave o necesitamos modificar los datos frecuentemente.\n",
                "- **Tuplas**: cuando los datos son constantes y no requieren cambios, o cuando la inmutabilidad es una ventaja (e.g., datos que se usarán como claves en un diccionario).\n",
                "\n",
                "### Funciones y Métodos Clave para Diccionarios y Tuplas\n",
                "\n",
                "* * *\n",
                "\n",
                "#### **Diccionarios**\n",
                "\n",
                "**Acceso y Manipulación de Elementos**"
            ]
        },
        {
            "cell_type": "code",
            "execution_count": 7,
            "metadata": {
                "azdata_cell_guid": "65553934-e4e4-4b44-aa2e-b234d1a33667",
                "language": "python"
            },
            "outputs": [
                {
                    "name": "stdout",
                    "output_type": "stream",
                    "text": [
                        "2\n",
                        "3\n",
                        "['manzana', 'banana', 'pera']\n",
                        "<built-in method values of dict object at 0x0000026B0EBF4FC0>\n",
                        "[3, 5, 2]\n"
                    ]
                }
            ],
            "source": [
                "# Diccionario de ejemplo\n",
                "frutas = {\"manzana\": 3, \"banana\": 5, \"pera\": 2}\n",
                "\n",
                "# Accede al valor de una clave\n",
                "print(frutas[\"pera\"])\n",
                "\n",
                "\n",
                "# Obtiene el valor de una clave, o un valor por defecto si no existe\n",
                "valor = frutas.get(\"uva\", 3)\n",
                "print(valor)\n",
                "\n",
                "\n",
                "# Vista de todas las claves\n",
                "# Output: dict_keys(['manzana', 'banana', 'pera'])\n",
                "print(list(frutas.keys()))\n",
                "\n",
                "# Vista de todos los valores\n",
                "# Output: dict_values([3, 5, 2])\n",
                "print(frutas.values)# lo imprime como objeto\n",
                "print(list(frutas.values()))\n",
                "\n",
                "\n",
                "# Vista de pares clave-valor\n",
                "# Output: dict_items([('manzana', 3), ('banana', 5), ('pera', 2)])\n"
            ]
        },
        {
            "attachments": {},
            "cell_type": "markdown",
            "metadata": {
                "azdata_cell_guid": "53d2cb94-1fa6-45c0-8c98-7ce166fecd1b",
                "language": "python"
            },
            "source": [
                "### Añadir, Modificar y Eliminar Elementos"
            ]
        },
        {
            "cell_type": "code",
            "execution_count": 16,
            "metadata": {
                "azdata_cell_guid": "d34df69d-7d3a-4890-bf9f-46543c9720c3",
                "language": "python"
            },
            "outputs": [
                {
                    "name": "stdout",
                    "output_type": "stream",
                    "text": [
                        "{'manzana': 3, 'banana': 5, 'pera': 2}\n",
                        "{'manzana': 3, 'banana': 5, 'pera': 4, 'guanabana': 3}\n",
                        "5\n",
                        "No hay guarana en la lista\n",
                        "{'manzana': 3, 'pera': 4, 'guanabana': 3, 'fresa': 4, 'melon': 1, 'sandia': 2}\n"
                    ]
                }
            ],
            "source": [
                "# Añade o actualiza el valor de una clave\n",
                "#añadir\n",
                "frutas = {\"manzana\": 3, \"banana\": 5, \"pera\": 2}\n",
                "print(frutas)\n",
                "frutas[\"guanabana\"] = 3\n",
                "#actualizar\n",
                "frutas[\"pera\"]= 4\n",
                "print(frutas)\n",
                "\n",
                "\n",
                "# Elimina un elemento y devuelve su valor\n",
                "frutaEliminada= frutas.pop(\"banana\")\n",
                "frutaEliminada2 = frutas.pop(\"guarana\", \"No hay guarana en la lista\")\n",
                "print(frutaEliminada)\n",
                "print(frutaEliminada2)\n",
                "\n",
                "\n",
                "# Actualiza el diccionario con otro diccionario\n",
                "nuevasFrutas = {\"fresa\" : 4, \"melon\" : 1, \"sandia\": 2}\n",
                "frutas.update(nuevasFrutas)\n",
                "print(frutas)\n"
            ]
        },
        {
            "attachments": {},
            "cell_type": "markdown",
            "metadata": {
                "azdata_cell_guid": "27d04572-8b5b-46fa-b3ee-4ed3f2939a34",
                "language": "python"
            },
            "source": [
                "## **Tuplas**\n",
                "\n",
                "## \n",
                "\n",
                "**Acceso a Elementos**"
            ]
        },
        {
            "cell_type": "code",
            "execution_count": 18,
            "metadata": {
                "azdata_cell_guid": "49003a53-30be-4eb6-98d0-8a86594a1947",
                "language": "python"
            },
            "outputs": [
                {
                    "name": "stdout",
                    "output_type": "stream",
                    "text": [
                        "Carlos\n",
                        "El sujeto Carlos tiene 25 años\n"
                    ]
                }
            ],
            "source": [
                "# Tupla de ejemplo\n",
                "persona = (\"Carlos\", 25)\n",
                "\n",
                "\n",
                "# Acceso por índice\n",
                "print(persona[0])  # Output: \"Carlos\"\n",
                "\n",
                "\n",
                "# Desempaquetado\n",
                "nombre, edad = persona\n",
                "\n",
                "print(f\"El sujeto {nombre} tiene {edad} años\")\n",
                "\n"
            ]
        },
        {
            "attachments": {},
            "cell_type": "markdown",
            "metadata": {
                "azdata_cell_guid": "4b7c571d-d8f2-4d72-9f79-9718986200eb"
            },
            "source": [
                "### Operaciones Útiles"
            ]
        },
        {
            "cell_type": "code",
            "execution_count": 24,
            "metadata": {
                "azdata_cell_guid": "61977840-044f-4cb3-858a-1812c43f3e2b",
                "language": "python"
            },
            "outputs": [
                {
                    "name": "stdout",
                    "output_type": "stream",
                    "text": [
                        "2\n",
                        "('Carlos', 25, 'Juan', 23)\n",
                        "('Carlos', 25, 'Juan', 23, 'Maria', 27)\n",
                        "Maria si está en la lista\n"
                    ]
                }
            ],
            "source": [
                "persona = (\"Carlos\", 25)\n",
                "# Longitud de la tupla\n",
                "print(len(persona))\n",
                "\n",
                "\n",
                "# Concatenación de tuplas\n",
                "nuevaPersona = (\"Juan\", 23)\n",
                "listaPersonas = persona + nuevaPersona\n",
                "print(listaPersonas)\n",
                "otraPersona = (\"Maria\", 27)\n",
                "listaPersonas = listaPersonas+otraPersona\n",
                "print(listaPersonas)\n",
                "\n",
                "\n",
                "\n",
                "# Verificar si un elemento está en la tupla\n",
                "nombreEvaluar = input(\"Digite el nombre que desea revisar\")\n",
                "if(nombreEvaluar in listaPersonas):\n",
                "    print(f\"{nombreEvaluar} si está en la lista\")\n",
                "else:\n",
                "    print(f\"{nombreEvaluar} no está en la lista\")\n",
                "    \n",
                "\n"
            ]
        },
        {
            "attachments": {},
            "cell_type": "markdown",
            "metadata": {
                "azdata_cell_guid": "549b6c62-76c6-4412-ae94-4d7a0ebd790d"
            },
            "source": [
                "### 3\\. **Retos Prácticos**\n",
                "\n",
                "#### **Ejercicio 1: Gestión de Inventario con Diccionarios**\n",
                "\n",
                "**Descripción**: Imagina una tienda que necesita llevar un control de inventario. Se nos da una lista de productos y queremos contar la cantidad de cada uno.\n",
                "\n",
                "**Objetivo**: Implementar el código para contar la frecuencia de cada producto usando un diccionario."
            ]
        },
        {
            "cell_type": "code",
            "execution_count": 26,
            "metadata": {
                "azdata_cell_guid": "f5cffccc-7f3a-45f8-b203-53faac8d2ab0",
                "language": "python"
            },
            "outputs": [
                {
                    "name": "stdout",
                    "output_type": "stream",
                    "text": [
                        "{'manzana': 3, 'banana': 2, 'pera': 1}\n"
                    ]
                }
            ],
            "source": [
                "productos = [\"manzana\", \"banana\", \"manzana\", \"pera\", \"banana\", \"manzana\"]\n",
                "inventario = {}\n",
                "listaProductos = []\n",
                "cantidadProductos = []\n",
                "for producto in productos:\n",
                "    if producto not in listaProductos:\n",
                "        listaProductos.append(producto)\n",
                "        cantidadProductos.append(1)\n",
                "    else:\n",
                "        cantidadProductos[listaProductos.index(producto)]+=1\n",
                "\n",
                "\n",
                "for i in range(len(listaProductos)):\n",
                "    inventario[listaProductos[i]] = cantidadProductos[i]\n",
                "    \n",
                "\n",
                "\n",
                "\n",
                "print(inventario)  # {'manzana': 3, 'banana': 2, 'pera': 1}\n"
            ]
        },
        {
            "attachments": {},
            "cell_type": "markdown",
            "metadata": {
                "azdata_cell_guid": "2ceed8f4-0a9a-48ac-ba0d-d48dc319ab9f",
                "language": "python"
            },
            "source": [
                "#### **Ejercicio 2: Procesamiento de Coordenadas con Tuplas**\n",
                "\n",
                "**Descripción**: Dado un conjunto de coordenadas de puntos, queremos calcular la distancia entre dos puntos en un plano 2D.\n",
                "\n",
                "**Objetivo**: Usar una tupla para representar las coordenadas de los puntos y calcular la distancia."
            ]
        },
        {
            "cell_type": "code",
            "execution_count": 30,
            "metadata": {
                "azdata_cell_guid": "5368c6bd-5224-4c6f-a5ad-ef6767750039",
                "language": "python"
            },
            "outputs": [
                {
                    "name": "stdout",
                    "output_type": "stream",
                    "text": [
                        "La distancia entre ambis puntos es 7\n"
                    ]
                }
            ],
            "source": [
                "punto1 = (3, 0)\n",
                "punto2 = (10, 0)\n",
                "\n",
                "distancia = abs(punto1[0]-punto2[0])\n",
                "\n",
                "# Cálculo de distancia en 1D\n",
                "print(f\"La distancia entre ambis puntos es {distancia}\")\n"
            ]
        },
        {
            "attachments": {},
            "cell_type": "markdown",
            "metadata": {
                "azdata_cell_guid": "02262547-dabe-40b9-9ef0-5863dcad648b",
                "language": "python"
            },
            "source": [
                "### **Ejercicio Final de Análisis de Datos: Procesamiento de Ventas**\n",
                "\n",
                "### \n",
                "\n",
                "**Contexto**: Supón que trabajas para una cadena de tiendas y tienes los datos de ventas en un formato que usa diccionarios y tuplas. Cada entrada en el registro de ventas tiene el formato:"
            ]
        },
        {
            "cell_type": "code",
            "execution_count": 43,
            "metadata": {
                "azdata_cell_guid": "fb7ea25e-c906-4f7e-9265-dd63d3193b54",
                "language": "python"
            },
            "outputs": [
                {
                    "name": "stdout",
                    "output_type": "stream",
                    "text": [
                        "Producto \t Costo Total\n",
                        "laptop: \t2100\n",
                        "ratón: \t250\n",
                        "teclado: \t225\n",
                        "_________________________\n",
                        "Total = \t 2575\n"
                    ]
                }
            ],
            "source": [
                "ventas = [\n",
                "    {\"producto\": \"laptop\", \"precio\": 700, \"cantidad\": 3},\n",
                "    {\"producto\": \"ratón\", \"precio\": 25, \"cantidad\": 10},\n",
                "    {\"producto\": \"teclado\", \"precio\": 45, \"cantidad\": 5},\n",
                "]\n",
                "total = 0\n",
                "print(\"Producto \\t Costo Total\")\n",
                "for venta in ventas:\n",
                "    print(f\"{venta[\"producto\"]}: \\t{venta[\"precio\"] * venta[\"cantidad\"]}\")\n",
                "    total+=venta[\"precio\"] * venta[\"cantidad\"]\n",
                "print(\"_\"*25)\n",
                "print(f\"Total = \\t {total}\")\n",
                "\n"
            ]
        },
        {
            "attachments": {},
            "cell_type": "markdown",
            "metadata": {
                "azdata_cell_guid": "babcfd28-f173-4adb-b593-c5cf58370bc0",
                "language": "python"
            },
            "source": [
                "**Instrucciones**:\n",
                "\n",
                "1. Calcula el ingreso total de ventas por cada producto.\n",
                "2. Muestra el ingreso total en pantalla.\n",
                "\n",
                "**Objetivo**: Realizar cálculos en un diccionario de ventas y entender cómo los diccionarios pueden facilitar el análisis de datos.  \n",
                "\n",
                "**Código de Solución**:"
            ]
        },
        {
            "cell_type": "code",
            "execution_count": null,
            "metadata": {
                "azdata_cell_guid": "85051147-a5a3-40e9-a423-179ac721be03",
                "language": "python",
                "tags": []
            },
            "outputs": [],
            "source": [
                "\n",
                "\n",
                "\n"
            ]
        }
    ],
    "metadata": {
        "kernelspec": {
            "display_name": "Python 3",
            "language": "python",
            "name": "python3"
        },
        "language_info": {
            "codemirror_mode": {
                "name": "ipython",
                "version": 3
            },
            "file_extension": ".py",
            "mimetype": "text/x-python",
            "name": "python",
            "nbconvert_exporter": "python",
            "pygments_lexer": "ipython3",
            "version": "3.12.4"
        }
    },
    "nbformat": 4,
    "nbformat_minor": 2
}
