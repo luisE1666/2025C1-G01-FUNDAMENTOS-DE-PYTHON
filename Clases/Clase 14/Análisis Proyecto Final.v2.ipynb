{
    "cells": [
        {
            "attachments": {},
            "cell_type": "markdown",
            "metadata": {
                "azdata_cell_guid": "43094d38-2acc-463a-bdf3-97ba90623fe5",
                "id": "a62202dd"
            },
            "source": [
                "# 📊 Caso de análisis: Emisiones de dióxido de carbono por país (1975-2017)\n",
                "## 🧠 Objetivo:\n",
                "Los estudiantes deben analizar la evolución de las emisiones de CO₂ en varios países desde 1975 hasta 2017, distinguiendo entre:\n",
                "\n",
                "- Emisiones totales: Miden la cantidad total de CO₂ emitido en un país.\n",
                "\n",
                "- Emisiones per cápita: Indican cuántas toneladas métricas de CO₂ emite, en promedio, una persona en ese país."
            ]
        },
        {
            "attachments": {},
            "cell_type": "markdown",
            "metadata": {
                "azdata_cell_guid": "aaf7af2f-c9dd-4e9e-9de1-6543ad2e0064"
            },
            "source": [
                "## <mark>Estudiante: \\> Luis Eduardo Chacón Víquez</mark>"
            ]
        },
        {
            "cell_type": "markdown",
            "metadata": {
                "azdata_cell_guid": "5d6834bd-ea61-4f0a-b586-a118753e31a9",
                "id": "e21e6b1c"
            },
            "source": [
                "## Contexto\n"
            ]
        },
        {
            "cell_type": "markdown",
            "metadata": {},
            "source": []
        },
        {
            "cell_type": "markdown",
            "metadata": {
                "azdata_cell_guid": "5b449223-cfd9-4324-8796-a7688878110c",
                "id": "c4c7df65"
            },
            "source": [
                "🌍 Análisis de Emisiones de CO₂ – Caso Práctico\n",
                "📁 Archivo: Carbon_Dioxide_Emission_Estimates.csv\n",
                "Contiene datos de emisiones de dióxido de carbono (CO₂) de varios países entre 1975 y 2017.\n",
                "\n",
                "🧾 Estructura de los datos\n",
                "- Country: País\n",
                "\n",
                "- Year: Año\n",
                "\n",
                "- Type: Tipo de emisión:\n",
                "\n",
                "    * Emisiones totales (kilotoneladas métricas)\n",
                "\n",
                "    * Emisiones per cápita (toneladas métricas por persona)\n",
                "\n",
                "- Value: Valor numérico de la emisión\n",
                "\n",
                "🔍 Tipos de emisiones\n",
                "- Totales: CO₂ emitido por todo el país (kt)\n",
                "\n",
                "- Per cápita: CO₂ promedio por persona (t CO₂/persona)\n",
                "\n",
                "    - Se calcula dividiendo emisiones totales por la población"
            ]
        },
        {
            "cell_type": "code",
            "execution_count": 121,
            "metadata": {},
            "outputs": [
                {
                    "name": "stdout",
                    "output_type": "stream",
                    "text": [
                        "['Emisiones (kilotoneladas metricas de dioxido de carbono)'\n",
                        " 'Emisiones per capita (toneladas metricas de dioxido de carbono)']\n"
                    ]
                }
            ],
            "source": [
                "#Importa el CSV como un DataFrame\n",
                "import pandas as pd\n",
                "\n",
                "df = pd.read_csv(\n",
                "    \"Estimaciones_Emisiones_Dioxido_Carbono.csv\", encoding=\"utf-8\")\n",
                "\n",
                "print(df[\"Type\"].unique())"
            ]
        },
        {
            "cell_type": "markdown",
            "metadata": {
                "azdata_cell_guid": "32151a06-fbc4-4fc0-9810-bdd34abdb6fd",
                "id": "352UFM-aEWCT"
            },
            "source": [
                "# Pregunta 0\n",
                "\n",
                "1. Crear un dataframe con el nombre de variable 'df_emisions_co2' usando únicamente las filas cuya columna 'Type' tiene el valor 'Emisiones totales de CO₂ emitidas por el país'\n",
                "\n",
                "2. Crear un dataframe con el nombre de variable 'df_emisions_co2_per_capita' usando únicamente las filas cuya columna 'Type' tiene el valor 'Emisiones promedio de CO₂ emitidas por habitante'."
            ]
        },
        {
            "cell_type": "code",
            "execution_count": 122,
            "metadata": {},
            "outputs": [],
            "source": [
                "#Crea un copia del original filtrado como df_emisions_co2\n",
                "#df_Año_educacion = df[df[\"Anotrab\"] == año1]\n",
                "df_emisions_co2 = df[df[\"Type\"] == 'Emisiones (kilotoneladas metricas de dioxido de carbono)']\n",
                "#print(df_emisions_co2.head(10))\n"
            ]
        },
        {
            "cell_type": "code",
            "execution_count": 123,
            "metadata": {},
            "outputs": [],
            "source": [
                "#Crea un copia del original filtrado como df_emisions_co2_per_capita\n",
                "df_emisions_co2_per_capita =df[df[\"Type\"] == 'Emisiones per capita (toneladas metricas de dioxido de carbono)']\n",
                "#print(df_emisions_co2_per_capita.head(10))\n"
            ]
        },
        {
            "cell_type": "markdown",
            "metadata": {
                "azdata_cell_guid": "66dbee89-6a74-42d6-b532-a95779ccc82a",
                "id": "d6bd6661"
            },
            "source": [
                "# Pregunta 2"
            ]
        },
        {
            "cell_type": "markdown",
            "metadata": {
                "azdata_cell_guid": "b30cf472-64d8-453a-b581-4d01915e9a38",
                "id": "3299b6b5"
            },
            "source": [
                "Cuántas filas tiene el dataframe 'df_emisions_co2'?"
            ]
        },
        {
            "cell_type": "code",
            "execution_count": 125,
            "metadata": {
                "azdata_cell_guid": "63fba01e-a296-4e37-badf-df51ee463964",
                "id": "f02d60cc",
                "language": "python"
            },
            "outputs": [
                {
                    "name": "stdout",
                    "output_type": "stream",
                    "text": [
                        "El alrdo del data frame df_emisions_co2 es 1066\n",
                        "El lardo del data frame df_emisions_co2_per_capita es 1066\n"
                    ]
                }
            ],
            "source": [
                "# Coloque el código que responda a la pregunta aqui\n",
                "print(f\"El alrdo del data frame df_emisions_co2 es {len(df_emisions_co2)}\")\n",
                "print(f\"El lardo del data frame df_emisions_co2_per_capita es {len(df_emisions_co2_per_capita)}\")"
            ]
        },
        {
            "cell_type": "markdown",
            "metadata": {
                "azdata_cell_guid": "5f8f7bed-99e7-4c3b-b621-d430915552a9",
                "id": "880f891d"
            },
            "source": [
                "# Pregunta 2"
            ]
        },
        {
            "cell_type": "markdown",
            "metadata": {
                "azdata_cell_guid": "3025751b-734d-491a-a0f2-e454076155fa",
                "id": "34700c9d"
            },
            "source": [
                "Cuál en el valor más alto de emisiones (en general) usando el dataframe 'df_emisions_co2'?"
            ]
        },
        {
            "cell_type": "code",
            "execution_count": 128,
            "metadata": {
                "azdata_cell_guid": "675d06d0-c52d-4848-8c84-b3503476d7e3",
                "id": "24bdf93a",
                "language": "python"
            },
            "outputs": [
                {
                    "name": "stdout",
                    "output_type": "stream",
                    "text": [
                        "El valor mas alto de emision es 9257933.9\n"
                    ]
                }
            ],
            "source": [
                "# Coloque el código que responda a la pregunta aqui exactamente lo que se pregunta\n",
                "max_df_emisions_co2 = df_emisions_co2[\"Value\"].max()\n",
                "print(f\"El valor mas alto de emision es {max_df_emisions_co2}\")"
            ]
        },
        {
            "cell_type": "markdown",
            "metadata": {
                "azdata_cell_guid": "97637f7a-fb3b-4b24-a6e8-769427d8c984",
                "id": "7ebd3621"
            },
            "source": [
                "# Pregunta 3"
            ]
        },
        {
            "cell_type": "markdown",
            "metadata": {
                "azdata_cell_guid": "4f9d7b44-d0e8-4705-8fa0-9a84d56774cf",
                "id": "eb81f1c8"
            },
            "source": [
                "Cuántos países (Countries) hay en el dataframe 'df_emisions_co2'?"
            ]
        },
        {
            "cell_type": "code",
            "execution_count": 103,
            "metadata": {
                "azdata_cell_guid": "207fdf39-e7dd-4ac4-b3f4-a129a75f2a6d",
                "id": "4f60454b",
                "language": "python"
            },
            "outputs": [
                {
                    "name": "stdout",
                    "output_type": "stream",
                    "text": [
                        " Hay 142 distintos paises\n"
                    ]
                }
            ],
            "source": [
                "# Coloque el código que responda a la pregunta aqui exactamente lo que se pregunta\n",
                "countries_unique = df_emisions_co2[\"Country\"].unique()\n",
                "print(f\" Hay {len(countries_unique)} distintos paises\")\n",
                "                  "
            ]
        },
        {
            "cell_type": "code",
            "execution_count": 102,
            "metadata": {
                "azdata_cell_guid": "52f1ec4f-654f-43c8-a541-2fe225b3a476",
                "id": "2f46faa0",
                "language": "python"
            },
            "outputs": [
                {
                    "name": "stdout",
                    "output_type": "stream",
                    "text": [
                        "1. Albania\n",
                        "2. Algeria\n",
                        "3. Angola\n",
                        "4. Argentina\n",
                        "5. Armenia\n",
                        "6. Australia\n",
                        "7. Austria\n",
                        "8. Azerbaijan\n",
                        "9. Bahrain\n",
                        "10. Bangladesh\n",
                        "11. Belarus\n",
                        "12. Belgium\n",
                        "13. Benin\n",
                        "14. Bolivia (Plurin. State of)\n",
                        "15. Bosnia and Herzegovina\n",
                        "16. Botswana\n",
                        "17. Brazil\n",
                        "18. Brunei Darussalam\n",
                        "19. Bulgaria\n",
                        "20. Cambodia\n",
                        "21. Cameroon\n",
                        "22. Canada\n",
                        "23. Chile\n",
                        "24. China\n",
                        "25. China Hong Kong SAR\n",
                        "26. Colombia\n",
                        "27. Congo\n",
                        "28. Costa Rica\n",
                        "29. CÃ´te dâIvoire\n",
                        "30. Croatia\n",
                        "31. Cuba\n",
                        "32. CuraÃ§ao\n",
                        "33. Cyprus\n",
                        "34. Czechia\n",
                        "35. Dem. People's Rep. Korea\n",
                        "36. Dem. Rep. of the Congo\n",
                        "37. Denmark\n",
                        "38. Dominican Republic\n",
                        "39. Ecuador\n",
                        "40. Egypt\n",
                        "41. El Salvador\n",
                        "42. Eritrea\n",
                        "43. Estonia\n",
                        "44. Ethiopia\n",
                        "45. Finland\n",
                        "46. France\n",
                        "47. Gabon\n",
                        "48. Georgia\n",
                        "49. Germany\n",
                        "50. Ghana\n",
                        "51. Gibraltar\n",
                        "52. Greece\n",
                        "53. Guatemala\n",
                        "54. Haiti\n",
                        "55. Honduras\n",
                        "56. Hungary\n",
                        "57. Iceland\n",
                        "58. India\n",
                        "59. Indonesia\n",
                        "60. Iran (Islamic Republic of)\n",
                        "61. Iraq\n",
                        "62. Ireland\n",
                        "63. Israel\n",
                        "64. Italy\n",
                        "65. Jamaica\n",
                        "66. Japan\n",
                        "67. Jordan\n",
                        "68. Kazakhstan\n",
                        "69. Kenya\n",
                        "70. Kosovo\n",
                        "71. Kuwait\n",
                        "72. Kyrgyzstan\n",
                        "73. Latvia\n",
                        "74. Lebanon\n",
                        "75. Libya\n",
                        "76. Lithuania\n",
                        "77. Luxembourg\n",
                        "78. Malaysia\n",
                        "79. Malta\n",
                        "80. Mauritius\n",
                        "81. Mexico\n",
                        "82. Mongolia\n",
                        "83. Montenegro\n",
                        "84. Morocco\n",
                        "85. Mozambique\n",
                        "86. Myanmar\n",
                        "87. Namibia\n",
                        "88. Nepal\n",
                        "89. Netherlands\n",
                        "90. New Zealand\n",
                        "91. Nicaragua\n",
                        "92. Niger\n",
                        "93. Nigeria\n",
                        "94. Norway\n",
                        "95. Oman\n",
                        "96. Pakistan\n",
                        "97. Panama\n",
                        "98. Paraguay\n",
                        "99. Peru\n",
                        "100. Philippines\n",
                        "101. Poland\n",
                        "102. Portugal\n",
                        "103. Qatar\n",
                        "104. Republic of Korea\n",
                        "105. Republic of Moldova\n",
                        "106. Romania\n",
                        "107. Russian Federation\n",
                        "108. Saudi Arabia\n",
                        "109. Senegal\n",
                        "110. Serbia\n",
                        "111. Singapore\n",
                        "112. Slovakia\n",
                        "113. Slovenia\n",
                        "114. South Africa\n",
                        "115. South Sudan\n",
                        "116. Spain\n",
                        "117. Sri Lanka\n",
                        "118. Sudan\n",
                        "119. Suriname\n",
                        "120. Sweden\n",
                        "121. Switzerland\n",
                        "122. Syrian Arab Republic\n",
                        "123. Tajikistan\n",
                        "124. Thailand\n",
                        "125. North Macedonia\n",
                        "126. Togo\n",
                        "127. Trinidad and Tobago\n",
                        "128. Tunisia\n",
                        "129. Turkey\n",
                        "130. Turkmenistan\n",
                        "131. Ukraine\n",
                        "132. United Arab Emirates\n",
                        "133. United Kingdom\n",
                        "134. United Rep. of Tanzania\n",
                        "135. United States of America\n",
                        "136. Uruguay\n",
                        "137. Uzbekistan\n",
                        "138. Venezuela (Boliv. Rep. of)\n",
                        "139. Viet Nam\n",
                        "140. Yemen\n",
                        "141. Zambia\n",
                        "142. Zimbabwe\n"
                    ]
                }
            ],
            "source": [
                "#Imprima un lista con todos los paises\n",
                "i = 1\n",
                "for pais in countries_unique:\n",
                "    print(f\"{i}. {pais}\")\n",
                "    i+=1"
            ]
        },
        {
            "cell_type": "markdown",
            "metadata": {
                "azdata_cell_guid": "30e5c2d6-95aa-4bda-ad89-2b581a214d82",
                "id": "1e40352a"
            },
            "source": [
                "# Pregunta 4"
            ]
        },
        {
            "cell_type": "markdown",
            "metadata": {
                "azdata_cell_guid": "d4c1a6a0-d184-4feb-9c6e-a934c52d0343",
                "id": "80c46908"
            },
            "source": [
                "Cuál es el país que tiene mayor emisiones usando el dataframe 'df_emisions_co2'?"
            ]
        },
        {
            "cell_type": "code",
            "execution_count": 104,
            "metadata": {
                "azdata_cell_guid": "ee5ff21c-8288-42a9-9212-4d88ff639e85",
                "id": "e6df7d42",
                "language": "python"
            },
            "outputs": [
                {
                    "name": "stdout",
                    "output_type": "stream",
                    "text": [
                        " El país con mas emisiones es China\n"
                    ]
                }
            ],
            "source": [
                "# Coloque el código que responda a la pregunta aqui exactamente lo que se pregunta\n",
                "max_value_country = df_emisions_co2[\"Country\"][df_emisions_co2[\"Value\"].idxmax()]\n",
                "print(f\" El país con mas emisiones es {max_value_country}\")\n",
                "\n",
                "#df_emisions_co2"
            ]
        },
        {
            "cell_type": "markdown",
            "metadata": {
                "azdata_cell_guid": "da6c194b-ecdd-42b0-82ca-210d6b74f57f",
                "id": "26c97fde"
            },
            "source": [
                "# Pregunta 5"
            ]
        },
        {
            "cell_type": "markdown",
            "metadata": {
                "azdata_cell_guid": "a5cf8867-358a-40cb-9933-027dd8e06aa3",
                "id": "541f44ca"
            },
            "source": [
                "Cuál es el año que tiene mayor emisiones para el país de Spain usando el dataframe 'df_emisions_co2'?"
            ]
        },
        {
            "cell_type": "code",
            "execution_count": 105,
            "metadata": {
                "azdata_cell_guid": "10e7e0fe-162a-4b2a-a01e-db2bd04b6865",
                "id": "c32f62d1",
                "language": "python"
            },
            "outputs": [
                {
                    "name": "stdout",
                    "output_type": "stream",
                    "text": [
                        "El año con mayor emsion de España es 2017\n"
                    ]
                }
            ],
            "source": [
                "# Coloque el código que responda a la pregunta aqui exactamente lo que se pregunta\n",
                "df_spain = df_emisions_co2[df_emisions_co2[\"Country\"] == \"Spain\"]\n",
                "max_year_spain = df_spain[\"Year\"][df_spain[\"Year\"].idxmax()]\n",
                "print(f\"El año con mayor emsion de España es {max_year_spain}\")"
            ]
        },
        {
            "cell_type": "markdown",
            "metadata": {
                "azdata_cell_guid": "78a2c35d-5ca9-4cc2-9890-05b367218238",
                "id": "55ce4564"
            },
            "source": [
                "# Pregunta 6"
            ]
        },
        {
            "cell_type": "markdown",
            "metadata": {
                "azdata_cell_guid": "048ff587-0368-4c8c-930d-678786aa18c3",
                "id": "3473e4f2"
            },
            "source": [
                "Cuáles son los años que se tiene registros para el dataframe 'df_emisions_co2_per_capita'?\n",
                "\n",
                "Entrege una lista con los años sin repetirse"
            ]
        },
        {
            "cell_type": "code",
            "execution_count": 106,
            "metadata": {
                "azdata_cell_guid": "75d9cbc6-d254-49d4-8cfc-7b0f74456608",
                "id": "5ad50924",
                "language": "python"
            },
            "outputs": [
                {
                    "name": "stdout",
                    "output_type": "stream",
                    "text": [
                        "Los años que se tienen registro son [1975 1985 1995 2005 2010 2015 2016 2017]\n"
                    ]
                }
            ],
            "source": [
                "# Coloque el código que responda a la pregunta aqui exactamente lo que se pregunta\n",
                "years_unique = df_emisions_co2_per_capita[\"Year\"].unique()\n",
                "print(f\"Los años que se tienen registro son {years_unique}\")"
            ]
        },
        {
            "cell_type": "markdown",
            "metadata": {
                "azdata_cell_guid": "8cee75a7-4fcc-47eb-883a-641aa900bc51",
                "id": "18fa522e"
            },
            "source": [
                "# Pregunta 7"
            ]
        },
        {
            "cell_type": "markdown",
            "metadata": {
                "azdata_cell_guid": "8532f291-3bd2-4da4-9eb3-7ac69e49b4a5",
                "id": "2747ce42"
            },
            "source": [
                "Cuántas son las emisiones en 'kilotoneladas métricas' en total usando todos los países para usando el dataframe 'df_emisions_co2'?\n"
            ]
        },
        {
            "cell_type": "code",
            "execution_count": 107,
            "metadata": {
                "azdata_cell_guid": "3b4710af-d857-49ce-9b19-931839541d39",
                "id": "e8cbd117",
                "language": "python"
            },
            "outputs": [
                {
                    "name": "stdout",
                    "output_type": "stream",
                    "text": [
                        " El total de emisiones es 195028250.41599998 en kilotoneladas metricas\n"
                    ]
                }
            ],
            "source": [
                "# Coloque el código que responda a la pregunta aqui exactamente lo que se pregunta\n",
                "#type_unique =df_emisions_co2[\"Type\"].unique()\n",
                "#print(type_unique)\n",
                "total_emisiones = df_emisions_co2[\"Value\"].sum()\n",
                "print(f\" El total de emisiones es {total_emisiones} en kilotoneladas metricas\")"
            ]
        },
        {
            "cell_type": "markdown",
            "metadata": {
                "azdata_cell_guid": "ddfe093b-e52f-4379-8062-efedfbddb684",
                "id": "42aa86db"
            },
            "source": [
                "# Pregunta 8"
            ]
        },
        {
            "cell_type": "markdown",
            "metadata": {
                "azdata_cell_guid": "ce742599-a5c4-41c7-87f1-7a881676c09f",
                "id": "a303974d"
            },
            "source": [
                "Cuántas son las emisiones en 'kilotoneladas métricas' sólo para Albania usando el dataframe 'df_emisions_co2'?\n"
            ]
        },
        {
            "cell_type": "code",
            "execution_count": 108,
            "metadata": {
                "azdata_cell_guid": "86c46d24-2812-47a3-aa64-fd2d6981cf9a",
                "id": "181ab815",
                "language": "python"
            },
            "outputs": [
                {
                    "name": "stdout",
                    "output_type": "stream",
                    "text": [
                        "Para albania hubieron 32713.283000000003 kilotoneladas métricas\n"
                    ]
                }
            ],
            "source": [
                "# Coloque el código que responda a la pregunta aqui exactamente lo que se pregunta\n",
                "df_albania = df_emisions_co2[df_emisions_co2[\"Country\"] == \"Albania\"]\n",
                "total_emisiones_Albania = df_albania[\"Value\"].sum()\n",
                "print(f\"Para albania hubieron {total_emisiones_Albania} kilotoneladas métricas\")\n"
            ]
        },
        {
            "cell_type": "markdown",
            "metadata": {
                "azdata_cell_guid": "5d5b3bfb-2643-45d0-ba92-b53affb67c17",
                "id": "d084c9f3"
            },
            "source": [
                "# Pregunta 9"
            ]
        },
        {
            "cell_type": "markdown",
            "metadata": {
                "azdata_cell_guid": "acd10e28-cde4-48c3-bba9-eee6323b06cc",
                "id": "ae9cebff"
            },
            "source": [
                "Cuántas son las emisiones totales en 'libras' sólo para Costa Rica usando el dataframe 'df_emisions_co2'?\n"
            ]
        },
        {
            "cell_type": "code",
            "execution_count": 109,
            "metadata": {
                "azdata_cell_guid": "8c372164-c8f6-4e72-9fd3-2b7c1eaf0499",
                "id": "ee97d492",
                "language": "python"
            },
            "outputs": [
                {
                    "name": "stdout",
                    "output_type": "stream",
                    "text": [
                        "Las emisiones en libras para Costa Rica fueron 93085906154340.0\n"
                    ]
                }
            ],
            "source": [
                "# Coloque el código que responda a la pregunta aqui exactamente lo que se pregunta\n",
                "df_costa_rica = df_emisions_co2[df_emisions_co2[\"Country\"] == \"Costa Rica\"].copy()\n",
                "df_costa_rica[\"Value_Libras\"] = df_costa_rica[\"Value\"] * 2_204_620_000\n",
                "total_emision_cr_libras = df_costa_rica[\"Value_Libras\"].sum()\n",
                "print(f\"Las emisiones en libras para Costa Rica fueron {total_emision_cr_libras}\")\n",
                "\n",
                "\n",
                "\n",
                "\n",
                "#type_unique =df_costa_rica[\"Type\"].unique()\n",
                "#print(type_unique)"
            ]
        },
        {
            "cell_type": "markdown",
            "metadata": {
                "azdata_cell_guid": "e505d100-2c39-45a3-9c7d-70c1f83b268d",
                "id": "eb6dfc54"
            },
            "source": [
                "# Pregunta 10"
            ]
        },
        {
            "cell_type": "markdown",
            "metadata": {
                "azdata_cell_guid": "cfe25701-d219-459b-a108-75787ee1f8ae",
                "id": "5862817e"
            },
            "source": [
                "Para sólo 'Costa Rica' y suponiendo que las emisiones se estancan a partir del último año reportado (se mantiene igual). Cuántas son las emisiones en 'Kg' sólo para Costa Rica en el año desde el ultimo año hasta el 2025 usando el dataframe 'df_emisions_co2'?\n"
            ]
        },
        {
            "cell_type": "code",
            "execution_count": 113,
            "metadata": {
                "azdata_cell_guid": "c65ecf97-b679-4808-91cc-fe771ce12b6b",
                "id": "76ed009c",
                "language": "python"
            },
            "outputs": [
                {
                    "name": "stdout",
                    "output_type": "stream",
                    "text": [
                        "El ultimo dato para costa rica es de 2017, con un valor de 7584.411,\n",
                        " por lo que si la tendencia se mantiene le consumo seria de 60675.288\n"
                    ]
                }
            ],
            "source": [
                "# Coloque el código que responda a la pregunta aqui exactamente lo que se pregunta\n",
                "df_ultimo_año_cr = df_costa_rica[\"Year\"].max()\n",
                "df_valor_ultimo_año = df_costa_rica[df_costa_rica[\"Year\"] == df_ultimo_año_cr]\n",
                "kt_ultimo_año = df_valor_ultimo_año[\"Value\"].iloc[0]#iloc devuelve el valor como flotante\n",
                "#print(df_costa_rica)\n",
                "consumo_años = (2025-df_ultimo_año_cr)*kt_ultimo_año\n",
                "print(f\"El ultimo dato para costa rica es de {df_ultimo_año_cr}, con un valor de {kt_ultimo_año},\\n por lo que si la tendencia se mantiene le consumo seria de {consumo_años}\")"
            ]
        },
        {
            "cell_type": "markdown",
            "metadata": {
                "azdata_cell_guid": "46cbe15c-fe3e-440c-8d83-8c8f73e4d5a7",
                "id": "1c18874b"
            },
            "source": [
                "# Pregunta 12"
            ]
        },
        {
            "cell_type": "markdown",
            "metadata": {
                "azdata_cell_guid": "14dc18b7-8bdb-41a5-a5eb-34da63fef812",
                "id": "6a487c43"
            },
            "source": [
                "Para sólo los países de Centroamérica ['El Salvador', 'Honduras', 'Guatemala', 'Costa Rica', 'Nicaragua'] obtener un reporte por año de las emisiones totales en Centroamérica usando el dataframe 'df_emisions_co2'?\n",
                "Se espera un dataframe de 2 columnas: 'Year' y 'total_por_año'"
            ]
        },
        {
            "cell_type": "code",
            "execution_count": 114,
            "metadata": {
                "azdata_cell_guid": "ba31d64d-a10b-4275-b19e-86f3e18984b6",
                "id": "1d0426bf",
                "language": "python"
            },
            "outputs": [
                {
                    "name": "stdout",
                    "output_type": "stream",
                    "text": [
                        "------------------------------------------\n",
                        "Datos por pais en centroamerica\n",
                        "------------------------------------------\n",
                        "\n",
                        "Datos de El Salvador:\n",
                        "     Year     Value\n",
                        "604  1975  1929.707\n",
                        "605  1985  1640.679\n",
                        "606  1995  4573.345\n",
                        "607  2005  6252.815\n",
                        "608  2010  5826.204\n",
                        "609  2015  6389.271\n",
                        "610  2016  6372.143\n",
                        "611  2017  5735.668\n",
                        "------------------------------------------\n",
                        "\n",
                        "Datos de Honduras:\n",
                        "     Year     Value\n",
                        "816  1975  1327.971\n",
                        "817  1985  1671.582\n",
                        "818  1995  3575.392\n",
                        "819  2005  7192.737\n",
                        "820  2010  7535.444\n",
                        "821  2015  9558.552\n",
                        "822  2016  9132.171\n",
                        "823  2017  9426.740\n",
                        "------------------------------------------\n",
                        "\n",
                        "Datos de Guatemala:\n",
                        "     Year      Value\n",
                        "784  1975   3015.686\n",
                        "785  1985   3183.813\n",
                        "786  1995   5858.990\n",
                        "787  2005  10621.597\n",
                        "788  2010  10272.703\n",
                        "789  2015  15164.376\n",
                        "790  2016  16261.135\n",
                        "791  2017  15703.161\n",
                        "------------------------------------------\n",
                        "\n",
                        "Datos de Costa Rica:\n",
                        "     Year     Value\n",
                        "410  1975  1738.003\n",
                        "411  1985  1948.536\n",
                        "412  1995  4438.795\n",
                        "413  2005  5463.059\n",
                        "414  2010  6622.054\n",
                        "415  2015  6940.230\n",
                        "416  2016  7488.019\n",
                        "417  2017  7584.411\n",
                        "------------------------------------------\n",
                        "\n",
                        "Datos de Nicaragua:\n",
                        "      Year     Value\n",
                        "1358  1975  1849.605\n",
                        "1359  1985  1805.723\n",
                        "1360  1995  2513.712\n",
                        "1361  2005  4032.083\n",
                        "1362  2010  4277.150\n",
                        "1363  2015  5054.947\n",
                        "1364  2016  5112.604\n",
                        "1365  2017  5106.281\n",
                        "------------------------------------------\n"
                    ]
                }
            ],
            "source": [
                "# Coloque el código que responda a la pregunta aqui exactamente lo que se pregunta\n",
                "paises = ['El Salvador', 'Honduras', 'Guatemala', 'Costa Rica', 'Nicaragua']\n",
                "print(\"------------------------------------------\")\n",
                "print(\"Datos por pais en centroamerica\")\n",
                "print(\"------------------------------------------\")\n",
                "for pais in paises:\n",
                "    df_pais_centroamerica = df_emisions_co2[df_emisions_co2[\"Country\"] == pais]\n",
                "    df_pais_centroamerica = df_pais_centroamerica[['Year', 'Value']]\n",
                "    \n",
                "    print(f\"\\nDatos de {pais}:\")\n",
                "    print(df_pais_centroamerica)\n",
                "    print(\"------------------------------------------\")\n",
                "    "
            ]
        },
        {
            "cell_type": "markdown",
            "metadata": {
                "azdata_cell_guid": "77c94d71-c324-4495-88c1-90cb5953b117",
                "id": "8fdaae3d"
            },
            "source": [
                "# Pregunta 13"
            ]
        },
        {
            "cell_type": "markdown",
            "metadata": {
                "azdata_cell_guid": "e4379b6f-d518-49e9-ba6a-181999caae36",
                "id": "8a7e17ff"
            },
            "source": [
                "Para sólo los países de Centroamérica ['El Salvador', 'Honduras', 'Guatemala', 'Costa Rica', 'Nicaragua'] obtener un reporte por año de las emisiones en promedio en Centroamérica usando el dataframe 'df_emisions_co2_per_capita'?\n",
                "Se espera un dataframe de 2 columnas: 'Year' y 'promedio_por_año'"
            ]
        },
        {
            "cell_type": "code",
            "execution_count": 115,
            "metadata": {
                "azdata_cell_guid": "b8107b3d-4b45-45e3-9c3e-2e20c56ed7a9",
                "id": "4ec787f4",
                "language": "python"
            },
            "outputs": [
                {
                    "name": "stdout",
                    "output_type": "stream",
                    "text": [
                        "------------------------------------------\n",
                        "Datos por pais en centroamerica\n",
                        "------------------------------------------\n",
                        "\n",
                        "Datos de El Salvador:\n",
                        "     Year  Value\n",
                        "612  1975  0.465\n",
                        "613  1985  0.333\n",
                        "614  1995  0.815\n",
                        "615  2005  1.037\n",
                        "616  2010  0.945\n",
                        "617  2015  1.012\n",
                        "618  2016  1.004\n",
                        "619  2017  0.899\n",
                        "------------------------------------------\n",
                        "\n",
                        "Datos de Honduras:\n",
                        "     Year  Value\n",
                        "824  1975  0.421\n",
                        "825  1985  0.390\n",
                        "826  1995  0.626\n",
                        "827  2005  0.976\n",
                        "828  2010  0.920\n",
                        "829  2015  1.067\n",
                        "830  2016  1.002\n",
                        "831  2017  1.017\n",
                        "------------------------------------------\n",
                        "\n",
                        "Datos de Guatemala:\n",
                        "     Year  Value\n",
                        "792  1975  0.469\n",
                        "793  1985  0.386\n",
                        "794  1995  0.563\n",
                        "795  2005  0.811\n",
                        "796  2010  0.702\n",
                        "797  2015  0.933\n",
                        "798  2016  0.981\n",
                        "799  2017  0.928\n",
                        "------------------------------------------\n",
                        "\n",
                        "Datos de Costa Rica:\n",
                        "     Year  Value\n",
                        "418  1975  0.829\n",
                        "419  1985  0.714\n",
                        "420  1995  1.264\n",
                        "421  2005  1.286\n",
                        "422  2010  1.457\n",
                        "423  2015  1.443\n",
                        "424  2016  1.542\n",
                        "425  2017  1.546\n",
                        "------------------------------------------\n",
                        "\n",
                        "Datos de Nicaragua:\n",
                        "      Year  Value\n",
                        "1366  1975  0.661\n",
                        "1367  1985  0.487\n",
                        "1368  1995  0.545\n",
                        "1369  2005  0.750\n",
                        "1370  2010  0.745\n",
                        "1371  2015  0.831\n",
                        "1372  2016  0.831\n",
                        "1373  2017  0.821\n",
                        "------------------------------------------\n"
                    ]
                }
            ],
            "source": [
                "# Coloque el código que responda a la pregunta aqui exactamente lo que se pregunta\n",
                "paises = ['El Salvador', 'Honduras', 'Guatemala', 'Costa Rica', 'Nicaragua']\n",
                "print(\"------------------------------------------\")\n",
                "print(\"Datos por pais en centroamerica\")\n",
                "print(\"------------------------------------------\")\n",
                "for pais in paises:\n",
                "    df_pais_centroamerica = df_emisions_co2_per_capita[df_emisions_co2_per_capita[\"Country\"] == pais]\n",
                "    df_pais_centroamerica = df_pais_centroamerica[['Year', 'Value']]\n",
                "    \n",
                "    print(f\"\\nDatos de {pais}:\")\n",
                "    print(df_pais_centroamerica)\n",
                "    print(\"------------------------------------------\")"
            ]
        },
        {
            "cell_type": "markdown",
            "metadata": {
                "azdata_cell_guid": "0a62ff93-d68b-48da-b993-51cc40362107",
                "id": "944ac865"
            },
            "source": [
                "# Pregunta 14"
            ]
        },
        {
            "cell_type": "markdown",
            "metadata": {
                "azdata_cell_guid": "3f87f1b5-8bed-42ed-aba4-3b2244324e40",
                "id": "b961da55"
            },
            "source": [
                "Cuál es el promedio de las emisiones per capita para el año 2005 usando el dataframe 'df_emisions_co2_per_capita'?\n"
            ]
        },
        {
            "cell_type": "code",
            "execution_count": 117,
            "metadata": {
                "azdata_cell_guid": "fe76819d-d78b-4923-9982-967e36223207",
                "id": "e2f0a786",
                "language": "python"
            },
            "outputs": [
                {
                    "name": "stdout",
                    "output_type": "stream",
                    "text": [
                        "El promedio per capita del 2005 es 5.29775\n"
                    ]
                }
            ],
            "source": [
                "# Coloque el código que responda a la pregunta aqui exactamente lo que se pregunta\n",
                "df_año_2005 = df_emisions_co2_per_capita[df_emisions_co2_per_capita[\"Year\"] == 2005]\n",
                "df_promedio_2005 =df_año_2005[\"Value\"].mean()\n",
                "\n",
                "print(f\"El promedio per capita del 2005 es {df_promedio_2005}\")"
            ]
        },
        {
            "cell_type": "markdown",
            "metadata": {},
            "source": [
                "# Pregunta 14\n",
                "\n",
                "Usa el dataframe  'df_emisions_co2_per_capita' con las columnas Year y promedio_por_año para crear una gráfica de líneas que muestre la evolución del promedio de emisiones per cápita en Centroamérica a lo largo del tiempo; el eje X debe ser el año y el eje Y el promedio de emisiones."
            ]
        },
        {
            "cell_type": "code",
            "execution_count": 66,
            "metadata": {},
            "outputs": [
                {
                    "data": {
                        "image/png": "[encoded data removed]",
                        "text/plain": [
                            "<Figure size 1000x600 with 1 Axes>"
                        ]
                    },
                    "metadata": {},
                    "output_type": "display_data"
                }
            ],
            "source": [
                "# Coloque el código que responda a la pregunta aqui exactamente lo que se pregunta\n",
                "import matplotlib.pyplot as plt\n",
                "paises = ['El Salvador', 'Honduras', 'Guatemala', 'Costa Rica', 'Nicaragua']\n",
                "\n",
                "df_todo_centroamerica = df_emisions_co2_per_capita[df_emisions_co2_per_capita[\"Country\"].isin(paises)]\n",
                "\n",
                "df_promedio_por_año = df_todo_centroamerica.groupby(\"Year\")[\"Value\"].mean()\n",
                "\n",
                "plt.figure(figsize=(10,6))\n",
                "df_promedio_por_año.plot(kind='line', marker='o')\n",
                "plt.title(\"Promedio de Emisiones por Año en Centroamérica\")\n",
                "plt.xlabel(\"Año\")\n",
                "plt.ylabel(\"Emisiones promedio (kilotoneladas de CO₂)\")\n",
                "plt.show()\n",
                "\n",
                "#print(df_todo_centroamerica)"
            ]
        }
    ],
    "metadata": {
        "colab": {
            "provenance": []
        },
        "kernelspec": {
            "display_name": "Python 3",
            "language": "python",
            "name": "python3"
        },
        "language_info": {
            "codemirror_mode": {
                "name": "ipython",
                "version": 3
            },
            "file_extension": ".py",
            "mimetype": "text/x-python",
            "name": "python",
            "nbconvert_exporter": "python",
            "pygments_lexer": "ipython3",
            "version": "3.12.4"
        }
    },
    "nbformat": 4,
    "nbformat_minor": 2
}
